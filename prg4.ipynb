{
 "cells": [
  {
   "cell_type": "code",
   "execution_count": 1,
   "metadata": {},
   "outputs": [],
   "source": [
    "import cv2\n",
    "face_cascade = cv2.CascadeClassifier('haarcascade_frontalface_default.xml')\n",
    "\n",
    "img = cv2.imread('star2.png')\n",
    "gray=cv2.cvtColor(img,cv2.COLOR_BGR2GRAY)\n",
    "\n",
    "faces=face_cascade.detectMultiScale(gray,scaleFactor=1.5,minNeighbors=3,minSize=(50,50))\n",
    "for (x,y,w,h) in faces:\n",
    "    cv2.rectangle(img,(x,y),(x + w,y + h),(0,0,255),2)\n",
    "\n",
    "        \n",
    "cv2.namedWindow('img',cv2.WINDOW_NORMAL)\n",
    "cv2.imshow('img',img)\n",
    "cv2.imwrite(\"result2.jpg\",img)\n",
    "cv2.waitKey(0)\n",
    "cv2.destroyAllWindows()"
   ]
  },
  {
   "cell_type": "code",
   "execution_count": 2,
   "metadata": {},
   "outputs": [
    {
     "name": "stdout",
     "output_type": "stream",
     "text": [
      "[[415  79 122 122]\n",
      " [724  78 122 122]\n",
      " [ 87  94 122 122]]\n",
      "AI found{0}people！ 3\n"
     ]
    }
   ],
   "source": [
    "print(faces)\n",
    "print('AI found{0}people！',format(len(faces)))"
   ]
  }
 ],
 "metadata": {
  "kernelspec": {
   "display_name": "Python 3",
   "language": "python",
   "name": "python3"
  },
  "language_info": {
   "codemirror_mode": {
    "name": "ipython",
    "version": 3
   },
   "file_extension": ".py",
   "mimetype": "text/x-python",
   "name": "python",
   "nbconvert_exporter": "python",
   "pygments_lexer": "ipython3",
   "version": "3.6.5"
  }
 },
 "nbformat": 4,
 "nbformat_minor": 2
}
